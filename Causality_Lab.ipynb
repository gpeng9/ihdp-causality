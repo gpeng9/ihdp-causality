{
 "cells": [
  {
   "cell_type": "code",
   "execution_count": 4,
   "metadata": {},
   "outputs": [],
   "source": [
    "import numpy as np\n",
    "import csv\n",
    "from sklearn.linear_model import LogisticRegression as LR"
   ]
  },
  {
   "cell_type": "code",
   "execution_count": 6,
   "metadata": {},
   "outputs": [],
   "source": [
    "treatment = [] #X\n",
    "outcomes = [] #Y\n",
    "features = [] #Z\n",
    "\n",
    "with open('ihdp.csv') as csvDataFile:\n",
    "    csvReader = csv.reader(csvDataFile)\n",
    "    next(csvReader)\n",
    "    for x in range(2, 27):\n",
    "        features.append([])\n",
    "    for row in csvReader:\n",
    "        treatment.append(row[0])\n",
    "        outcomes.append(row[1])\n",
    "        for i in range(0, 25):\n",
    "            features[i].append(row[i+2])"
   ]
  },
  {
   "cell_type": "code",
   "execution_count": 7,
   "metadata": {},
   "outputs": [
    {
     "data": {
      "text/plain": [
       "LogisticRegression(C=1.0, class_weight=None, dual=False, fit_intercept=True,\n",
       "                   intercept_scaling=1, l1_ratio=None, max_iter=200,\n",
       "                   multi_class='warn', n_jobs=None, penalty='none',\n",
       "                   random_state=0, solver='lbfgs', tol=0.0001, verbose=0,\n",
       "                   warm_start=False)"
      ]
     },
     "execution_count": 7,
     "metadata": {},
     "output_type": "execute_result"
    }
   ],
   "source": [
    "lr = LR(penalty='none', max_iter=200, random_state=0, solver='lbfgs')\n",
    "lr.fit(np.array(features).transpose(), treatment)"
   ]
  },
  {
   "cell_type": "code",
   "execution_count": 8,
   "metadata": {},
   "outputs": [],
   "source": [
    "def estimate_treatment_effect(model, X, Y, Z):\n",
    "    score = model.predict_proba(Z.transpose())\n",
    "    e_z = score[:,1]\n",
    "    result = 0\n",
    "    for i in range(0, 747):\n",
    "        result += (X[i] - e_z[i]) * Y[i] / (e_z[i] * (1 - e_z[i]))\n",
    "    return result / 747"
   ]
  },
  {
   "cell_type": "code",
   "execution_count": 9,
   "metadata": {},
   "outputs": [
    {
     "name": "stdout",
     "output_type": "stream",
     "text": [
      "3.6956988430118836\n"
     ]
    }
   ],
   "source": [
    "X = (np.array(treatment)).astype(float)\n",
    "Y = (np.array(outcomes)).astype(float)\n",
    "Z = np.array(features).astype(float)\n",
    "estimate = estimate_treatment_effect(lr, X, Y, Z)\n",
    "print(estimate)"
   ]
  },
  {
   "cell_type": "code",
   "execution_count": 10,
   "metadata": {},
   "outputs": [
    {
     "name": "stdout",
     "output_type": "stream",
     "text": [
      "4.021121012430834\n"
     ]
    }
   ],
   "source": [
    "count1 = 0\n",
    "total1 = 0\n",
    "count2 = 0\n",
    "total2 = 0\n",
    "for i in range(0, 747):\n",
    "    if X[i] == 0:\n",
    "        count1 += Y[i]\n",
    "        total1 += 1\n",
    "    if X[i] == 1:\n",
    "        count2 += Y[i]\n",
    "        total2 += 1\n",
    "print(count2 / total2 - count1 / total1)"
   ]
  },
  {
   "cell_type": "code",
   "execution_count": null,
   "metadata": {},
   "outputs": [],
   "source": []
  }
 ],
 "metadata": {
  "kernelspec": {
   "display_name": "Python 3",
   "language": "python",
   "name": "python3"
  },
  "language_info": {
   "codemirror_mode": {
    "name": "ipython",
    "version": 3
   },
   "file_extension": ".py",
   "mimetype": "text/x-python",
   "name": "python",
   "nbconvert_exporter": "python",
   "pygments_lexer": "ipython3",
   "version": "3.7.1"
  }
 },
 "nbformat": 4,
 "nbformat_minor": 2
}
